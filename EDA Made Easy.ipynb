{
 "cells": [
  {
   "cell_type": "markdown",
   "id": "ce30cf6a",
   "metadata": {},
   "source": [
    "# Name : Gaurav Mathur\n",
    "# Roll Number : D21014\n",
    "# Name : Ankit Bankoti\n",
    "# Roll Number : D21006"
   ]
  },
  {
   "cell_type": "markdown",
   "id": "0b9020f8",
   "metadata": {},
   "source": [
    "## Import Libraries"
   ]
  },
  {
   "cell_type": "code",
   "execution_count": 9,
   "id": "9b3c5f5f",
   "metadata": {},
   "outputs": [],
   "source": [
    "import pandas as pd\n",
    "import numpy as np\n",
    "import matplotlib.pyplot as plt\n",
    "import seaborn as sns\n",
    "import os"
   ]
  },
  {
   "cell_type": "markdown",
   "id": "f2bdffea",
   "metadata": {},
   "source": [
    "## Import dataset"
   ]
  },
  {
   "cell_type": "code",
   "execution_count": 10,
   "id": "35c66ba9",
   "metadata": {},
   "outputs": [],
   "source": [
    "data = pd.read_csv(r'C:\\Users\\hp\\Desktop\\Praxis\\1st Trimester\\Introduction to Machine Learning\\cars.csv')"
   ]
  },
  {
   "cell_type": "code",
   "execution_count": 11,
   "id": "689ba95f",
   "metadata": {},
   "outputs": [
    {
     "data": {
      "text/html": [
       "<div>\n",
       "<style scoped>\n",
       "    .dataframe tbody tr th:only-of-type {\n",
       "        vertical-align: middle;\n",
       "    }\n",
       "\n",
       "    .dataframe tbody tr th {\n",
       "        vertical-align: top;\n",
       "    }\n",
       "\n",
       "    .dataframe thead th {\n",
       "        text-align: right;\n",
       "    }\n",
       "</style>\n",
       "<table border=\"1\" class=\"dataframe\">\n",
       "  <thead>\n",
       "    <tr style=\"text-align: right;\">\n",
       "      <th></th>\n",
       "      <th>Car</th>\n",
       "      <th>MPG</th>\n",
       "      <th>Cylinders</th>\n",
       "      <th>Displacement</th>\n",
       "      <th>Horsepower</th>\n",
       "      <th>Weight</th>\n",
       "      <th>Acceleration</th>\n",
       "      <th>Model</th>\n",
       "      <th>Origin</th>\n",
       "    </tr>\n",
       "  </thead>\n",
       "  <tbody>\n",
       "    <tr>\n",
       "      <th>0</th>\n",
       "      <td>Chevrolet Chevelle Malibu</td>\n",
       "      <td>18.0</td>\n",
       "      <td>8</td>\n",
       "      <td>307.0</td>\n",
       "      <td>130</td>\n",
       "      <td>3504</td>\n",
       "      <td>12.0</td>\n",
       "      <td>70</td>\n",
       "      <td>US</td>\n",
       "    </tr>\n",
       "    <tr>\n",
       "      <th>1</th>\n",
       "      <td>Buick Skylark 320</td>\n",
       "      <td>15.0</td>\n",
       "      <td>8</td>\n",
       "      <td>350.0</td>\n",
       "      <td>165</td>\n",
       "      <td>3693</td>\n",
       "      <td>11.5</td>\n",
       "      <td>70</td>\n",
       "      <td>US</td>\n",
       "    </tr>\n",
       "    <tr>\n",
       "      <th>2</th>\n",
       "      <td>Plymouth Satellite</td>\n",
       "      <td>18.0</td>\n",
       "      <td>8</td>\n",
       "      <td>318.0</td>\n",
       "      <td>150</td>\n",
       "      <td>3436</td>\n",
       "      <td>11.0</td>\n",
       "      <td>70</td>\n",
       "      <td>US</td>\n",
       "    </tr>\n",
       "    <tr>\n",
       "      <th>3</th>\n",
       "      <td>AMC Rebel SST</td>\n",
       "      <td>16.0</td>\n",
       "      <td>8</td>\n",
       "      <td>304.0</td>\n",
       "      <td>150</td>\n",
       "      <td>3433</td>\n",
       "      <td>12.0</td>\n",
       "      <td>70</td>\n",
       "      <td>US</td>\n",
       "    </tr>\n",
       "    <tr>\n",
       "      <th>4</th>\n",
       "      <td>Ford Torino</td>\n",
       "      <td>17.0</td>\n",
       "      <td>8</td>\n",
       "      <td>302.0</td>\n",
       "      <td>140</td>\n",
       "      <td>3449</td>\n",
       "      <td>10.5</td>\n",
       "      <td>70</td>\n",
       "      <td>US</td>\n",
       "    </tr>\n",
       "  </tbody>\n",
       "</table>\n",
       "</div>"
      ],
      "text/plain": [
       "                         Car   MPG  Cylinders  Displacement  Horsepower  \\\n",
       "0  Chevrolet Chevelle Malibu  18.0          8         307.0         130   \n",
       "1          Buick Skylark 320  15.0          8         350.0         165   \n",
       "2         Plymouth Satellite  18.0          8         318.0         150   \n",
       "3              AMC Rebel SST  16.0          8         304.0         150   \n",
       "4                Ford Torino  17.0          8         302.0         140   \n",
       "\n",
       "   Weight  Acceleration  Model Origin  \n",
       "0    3504          12.0     70     US  \n",
       "1    3693          11.5     70     US  \n",
       "2    3436          11.0     70     US  \n",
       "3    3433          12.0     70     US  \n",
       "4    3449          10.5     70     US  "
      ]
     },
     "execution_count": 11,
     "metadata": {},
     "output_type": "execute_result"
    }
   ],
   "source": [
    "data.head()"
   ]
  },
  {
   "cell_type": "code",
   "execution_count": 4,
   "id": "b847e2d5",
   "metadata": {},
   "outputs": [],
   "source": [
    "directory = os.chdir(r'C:\\Users\\hp\\Desktop\\Praxis\\1st Trimester\\Python')"
   ]
  },
  {
   "cell_type": "code",
   "execution_count": 14,
   "id": "7c291cb9",
   "metadata": {},
   "outputs": [
    {
     "data": {
      "text/plain": [
       "dtype('float64')"
      ]
     },
     "execution_count": 14,
     "metadata": {},
     "output_type": "execute_result"
    }
   ],
   "source": [
    "data.MPG.dtypes"
   ]
  },
  {
   "cell_type": "markdown",
   "id": "a1365016",
   "metadata": {},
   "source": [
    "## Explanation : \n",
    "In this we are creating a function which takes dataset as an input. Also takes the dataset columns as an input. By default all the columns are selected. There is one more input for the function. By default, we have given the directory as the current working directory.\n",
    "\n",
    "Let's see how the code works.\n",
    "\n",
    "So we have defined 2 empty lists. We are iterating through all the columns of the data and we are identifying the data types of all the columns. Next we are going to use if loop to slice the data. If the data type is object we are going to append it to A1 list and if the data type is other than that, we are going to append it to B list.\n",
    "\n",
    "Once we have the data seperated, next step is to plot the graphs seperately for Categorical and Numerical columns.\n",
    "\n",
    "In the 1st for loop we are going to plot the Bar plot for Categorical Values. And we will save it in the specified directory. We will save the figure in a .PNG format.\n",
    "\n",
    "In the 2nd for loop, we will plot the histogram and box plot for Numerical values. And we will save it in the specified directory. We will save the figure in the .PNG format."
   ]
  },
  {
   "cell_type": "markdown",
   "id": "495b1e54",
   "metadata": {},
   "source": [
    "\n",
    "    \n",
    "    "
   ]
  },
  {
   "cell_type": "code",
   "execution_count": 17,
   "id": "9a6b223d",
   "metadata": {},
   "outputs": [],
   "source": [
    "def Graphs(data, cols = data.columns, directory = os.getcwd()): ## Defining a function with default parameters.\n",
    "    A1 = []     ## Empty List\n",
    "    B = []   ##Empty List\n",
    "    C = []## Empty List\n",
    "    for i in cols:     ### Iterating through all the columns.\n",
    "    #print(data[i].dtypes)\n",
    "        if data[i].dtypes == 'object':     ## Checking the data types of all the \n",
    "            A1.append(i)       ### Appending the string objects to the A1 empty list.\n",
    "        elif data[i].dtypes == 'int64' or 'float64':         ##For loop to get the numerical variables.\n",
    "            B.append(i)                         ##Appending the numerical variables to B list.\n",
    "        else:\n",
    "            C.append(i)    ##Appending everything else to C.\n",
    "    for i in A1:         ## Using this for loop, iterating thriugh the Categorical variables and plotting them.\n",
    "        data[i].value_counts().plot(kind = 'bar', figsize = (6,4),color = 'coral')  ## Plotting Bar Plot.\n",
    "        plt.title('Barplot of {}'.format(i))     ## Title for the plot.\n",
    "        plt.xlabel('{}'.format(i))                 ## Xlabel for the plot.\n",
    "        plt.ylabel('Frequency'.format(i))         ##Ylabel for the plot.\n",
    "        plt.savefig('Barplots of {}'.format(i))    ##Saving the figure in the default directory.\n",
    "        plt.show()  \n",
    "    for i in range(len(B)): #Using this for loop, iterating thriugh the Categorical variables and plotting them.                \n",
    "        plt.subplot(3,1,1)             ##Subplotting the Graphs.\n",
    "        sns.boxplot(data=data, x = B[i])    ##Plotting the Boxplot.\n",
    "        plt.title('Boxplot for {}'.format(B[i]))    ## Title for the Boxplot.\n",
    "        plt.xlabel('{}'.format(B[i]))              ## Giving the Xlabel.\n",
    "        plt.ylabel('Frequency of {}'.format(B[i]))  ## Giving the ylabel.\n",
    "        \n",
    "        plt.subplot(3,1,3)        ## Subplotting the Graphs.\n",
    "        sns.histplot(data = data, x = B[i])        ##Plotting the Histplot\n",
    "        plt.title('Histogram for {}'.format(B[i]))   ## # Title for the Boxplot.\n",
    "        plt.xlabel('{}'.format(B[i]))                 ## Giving the Xlabel.\n",
    "        plt.ylabel('Frequency of {}'.format(B[i]))    ## Giving the ylabel.\n",
    "        plt.savefig('{}.png'.format(B[i]))  #### Saving the figure.\n",
    "        #plt.show() \n",
    "        plt.show()"
   ]
  },
  {
   "cell_type": "code",
   "execution_count": 18,
   "id": "74c0d41e",
   "metadata": {
    "scrolled": true
   },
   "outputs": [
    {
     "data": {
      "image/png": "[encoded data removed]",
      "text/plain": [
       "<Figure size 432x288 with 1 Axes>"
      ]
     },
     "metadata": {
      "needs_background": "light"
     },
     "output_type": "display_data"
    },
    {
     "data": {
      "image/png": "[encoded data removed]",
      "text/plain": [
       "<Figure size 432x288 with 2 Axes>"
      ]
     },
     "metadata": {
      "needs_background": "light"
     },
     "output_type": "display_data"
    }
   ],
   "source": [
    "Graphs(data = data, cols = ['MPG', 'Origin'])  ##Plots all the columns in the dataset and saves them in the current working directory."
   ]
  },
  {
   "cell_type": "code",
   "execution_count": 7,
   "id": "79b3571f",
   "metadata": {},
   "outputs": [
    {
     "data": {
      "image/png": "[encoded data removed]",
      "text/plain": [
       "<Figure size 432x288 with 1 Axes>"
      ]
     },
     "metadata": {
      "needs_background": "light"
     },
     "output_type": "display_data"
    },
    {
     "data": {
      "image/png": "[encoded data removed]",
      "text/plain": [
       "<Figure size 432x288 with 2 Axes>"
      ]
     },
     "metadata": {
      "needs_background": "light"
     },
     "output_type": "display_data"
    }
   ],
   "source": [
    "Graphs(data, cols = ['MPG','Origin']) ## This will save only MPG and Origin."
   ]
  },
  {
   "cell_type": "code",
   "execution_count": 8,
   "id": "7adcbde8",
   "metadata": {},
   "outputs": [
    {
     "data": {
      "image/png": "[encoded data removed]",
      "text/plain": [
       "<Figure size 432x288 with 1 Axes>"
      ]
     },
     "metadata": {
      "needs_background": "light"
     },
     "output_type": "display_data"
    },
    {
     "data": {
      "image/png": "[encoded data removed]",
      "text/plain": [
       "<Figure size 432x288 with 2 Axes>"
      ]
     },
     "metadata": {
      "needs_background": "light"
     },
     "output_type": "display_data"
    }
   ],
   "source": [
    "## This will save the graphs to new directory Graphs folder.\n",
    "Graphs(data, cols = ['MPG', 'Origin'], directory = os.chdir(r'C:\\Users\\hp\\Desktop\\Graphs')) "
   ]
  },
  {
   "cell_type": "code",
   "execution_count": null,
   "id": "f81accfa",
   "metadata": {},
   "outputs": [],
   "source": []
  }
 ],
 "metadata": {
  "kernelspec": {
   "display_name": "Python 3",
   "language": "python",
   "name": "python3"
  },
  "language_info": {
   "codemirror_mode": {
    "name": "ipython",
    "version": 3
   },
   "file_extension": ".py",
   "mimetype": "text/x-python",
   "name": "python",
   "nbconvert_exporter": "python",
   "pygments_lexer": "ipython3",
   "version": "3.8.10"
  }
 },
 "nbformat": 4,
 "nbformat_minor": 5
}
